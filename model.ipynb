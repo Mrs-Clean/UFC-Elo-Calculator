{
 "cells": [
  {
   "cell_type": "code",
   "execution_count": 18,
   "metadata": {},
   "outputs": [],
   "source": [
    "import pandas as pd\n"
   ]
  },
  {
   "cell_type": "code",
   "execution_count": 19,
   "metadata": {},
   "outputs": [
    {
     "name": "stdout",
     "output_type": "stream",
     "text": [
      "       Weight class          Fighter 1 Result          Fighter 2  \\\n",
      "0         Flyweight  Alexandre Pantoja    def        Kai Asakura   \n",
      "1      Welterweight  Shavkat Rakhmonov    def  Ian Machado Garry   \n",
      "2       Heavyweight         Ciryl Gane    def   Alexander Volkov   \n",
      "3     Featherweight     Bryce Mitchell    def        Kron Gracie   \n",
      "4     Featherweight        Choi Doo-ho    def      Nate Landwehr   \n",
      "...             ...                ...    ...                ...   \n",
      "7960            NaN     Gerard Gordeau    def       Kevin Rosier   \n",
      "7961            NaN       Ken Shamrock    def      Patrick Smith   \n",
      "7962            NaN       Royce Gracie    def      Art Jimmerson   \n",
      "7963            NaN       Kevin Rosier    def       Zane Frazier   \n",
      "7964            NaN     Gerard Gordeau    def         Teila Tuli   \n",
      "\n",
      "                                          Method  Round  Time    #  \n",
      "0        Technical Submission (rear-naked choke)    2.0  2:05  715  \n",
      "1     Decision (unanimous) (48–47, 48–47, 48–47)    5.0  5:00  715  \n",
      "2         Decision (split) (29–28, 28–29, 29–28)    3.0  5:00  715  \n",
      "3                           KO (slam and elbows)    3.0  0:39  715  \n",
      "4                                   TKO (elbows)    3.0  3:21  715  \n",
      "...                                          ...    ...   ...  ...  \n",
      "7960                       TKO (corner stoppage)    NaN  0:59    1  \n",
      "7961                      Submission (heel hook)    NaN  1:49    1  \n",
      "7962                  Submission (smother choke)    NaN  2:18    1  \n",
      "7963                               TKO (punches)    NaN  4:20    1  \n",
      "7964                             TKO (head kick)    NaN  0:26    1  \n",
      "\n",
      "[7965 rows x 8 columns]\n"
     ]
    }
   ],
   "source": [
    "data = pd.read_csv('all_fight_results.csv')\n",
    "# Reverse dataframe\n",
    "print(data)"
   ]
  },
  {
   "cell_type": "code",
   "execution_count": 20,
   "metadata": {},
   "outputs": [
    {
     "name": "stdout",
     "output_type": "stream",
     "text": [
      "       Weight class          Fighter 1 Result          Fighter 2  \\\n",
      "0               NaN     Gerard Gordeau    def         Teila Tuli   \n",
      "1               NaN       Kevin Rosier    def       Zane Frazier   \n",
      "2               NaN       Royce Gracie    def      Art Jimmerson   \n",
      "3               NaN       Ken Shamrock    def      Patrick Smith   \n",
      "4               NaN     Gerard Gordeau    def       Kevin Rosier   \n",
      "...             ...                ...    ...                ...   \n",
      "7960  Featherweight        Choi Doo-ho    def      Nate Landwehr   \n",
      "7961  Featherweight     Bryce Mitchell    def        Kron Gracie   \n",
      "7962    Heavyweight         Ciryl Gane    def   Alexander Volkov   \n",
      "7963   Welterweight  Shavkat Rakhmonov    def  Ian Machado Garry   \n",
      "7964      Flyweight  Alexandre Pantoja    def        Kai Asakura   \n",
      "\n",
      "                                          Method  Round  Time    #  \n",
      "0                                TKO (head kick)    NaN  0:26    1  \n",
      "1                                  TKO (punches)    NaN  4:20    1  \n",
      "2                     Submission (smother choke)    NaN  2:18    1  \n",
      "3                         Submission (heel hook)    NaN  1:49    1  \n",
      "4                          TKO (corner stoppage)    NaN  0:59    1  \n",
      "...                                          ...    ...   ...  ...  \n",
      "7960                                TKO (elbows)    3.0  3:21  715  \n",
      "7961                        KO (slam and elbows)    3.0  0:39  715  \n",
      "7962      Decision (split) (29–28, 28–29, 29–28)    3.0  5:00  715  \n",
      "7963  Decision (unanimous) (48–47, 48–47, 48–47)    5.0  5:00  715  \n",
      "7964     Technical Submission (rear-naked choke)    2.0  2:05  715  \n",
      "\n",
      "[7965 rows x 8 columns]\n"
     ]
    }
   ],
   "source": [
    "df = data.iloc[::-1].reset_index(drop=True)\n",
    "print(df)"
   ]
  },
  {
   "cell_type": "code",
   "execution_count": 21,
   "metadata": {},
   "outputs": [
    {
     "name": "stdout",
     "output_type": "stream",
     "text": [
      "['def' 'vs']\n"
     ]
    }
   ],
   "source": [
    "print(pd.unique(df['Result']))"
   ]
  },
  {
   "cell_type": "code",
   "execution_count": 22,
   "metadata": {},
   "outputs": [],
   "source": [
    "import importlib\n",
    "import elo_calculator"
   ]
  },
  {
   "cell_type": "code",
   "execution_count": 23,
   "metadata": {},
   "outputs": [],
   "source": [
    "importlib.reload(elo_calculator)\n",
    "from elo_calculator import EloCalculator, ExpDecayK\n",
    "\n",
    "elo_peak = {}\n",
    "elo_cur = {}\n",
    "elo_history = {}\n",
    "record = {}\n",
    "for index, row in df.iterrows():\n",
    "    num = row['#']\n",
    "    A = row['Fighter 1']\n",
    "    B = row['Fighter 2']\n",
    "    if(A not in elo_cur):\n",
    "        elo_cur[A] = {'Elo': 1200} # League of Legends starts everyone at 1200 elo\n",
    "        elo_history[A] = []\n",
    "        record[A] = {\"wins\": 0, \"losses\": 0, \"draws\": 0}\n",
    "    if(B not in elo_cur):\n",
    "        elo_cur[B] = {'Elo': 1200}\n",
    "        elo_history[B] = []\n",
    "        record[B] = {\"wins\": 0, \"losses\": 0, \"draws\": 0}\n",
    "    A_old_elo = elo_cur[A]['Elo']\n",
    "    B_old_elo = elo_cur[B]['Elo']\n",
    "    A_fights = record[A][\"wins\"] + record[A][\"losses\"] + record[A][\"draws\"]\n",
    "    B_fights = record[B][\"wins\"] + record[B][\"losses\"] + record[B][\"draws\"]\n",
    "    # Update record\n",
    "    if(row['Result'] == 'def'):\n",
    "        winner = 1\n",
    "        record[A][\"wins\"] += 1\n",
    "        record[B][\"losses\"] += 1\n",
    "    else:\n",
    "        winner = 0.5\n",
    "        record[A][\"draws\"] += 1\n",
    "        record[B][\"draws\"] += 1\n",
    "    A_record = f\"{record[A]['wins']}-{record[A]['losses']}-{record[A]['draws']}\"\n",
    "    B_record = f\"{record[B]['wins']}-{record[B]['losses']}-{record[B]['draws']}\"\n",
    "    Ka, Kb = ExpDecayK(A_fights, B_fights)\n",
    "    A_new_elo, B_new_elo = EloCalculator(A_old_elo, B_old_elo, winner, Ka, Kb)\n",
    "    # Update elo\n",
    "    elo_cur[A]['Elo'] = A_new_elo\n",
    "    elo_cur[B]['Elo'] = B_new_elo\n",
    "    # Add to elo history\n",
    "    elo_history[A].append({\"Event #\": num, \"Elo\": A_new_elo, \"Record\": A_record})\n",
    "    elo_history[B].append({\"Event #\": num, \"Elo\": B_new_elo, \"Record\": B_record})\n",
    "    # Update peak elo\n",
    "    if(A not in elo_peak or elo_peak[A]['Elo'] <= A_new_elo):\n",
    "        elo_peak[A] = {\"Event #\": num, \"Elo\": A_new_elo}\n",
    "    if(B not in elo_peak or elo_peak[B]['Elo'] <= B_new_elo):\n",
    "        elo_peak[B] = {\"Event #\": num, \"Elo\": B_new_elo}\n"
   ]
  },
  {
   "cell_type": "code",
   "execution_count": 24,
   "metadata": {},
   "outputs": [],
   "source": [
    "# Convert dictionaries to dataframes\n",
    "df_elo_peak = pd.DataFrame.from_dict(elo_peak, orient='index')\n",
    "df_elo_cur = pd.DataFrame.from_dict(elo_cur, orient='index')\n",
    "\n",
    "# For elo_history, we make a dictionary of dataframes for each fighter\n",
    "dict_elo_history = {\n",
    "    fighter: pd.DataFrame(history)\n",
    "    for fighter, history in elo_history.items()\n",
    "}"
   ]
  },
  {
   "cell_type": "code",
   "execution_count": 25,
   "metadata": {},
   "outputs": [
    {
     "name": "stdout",
     "output_type": "stream",
     "text": [
      "{'Iron': np.float64(1023.2379526105263), 'Bronze': np.float64(1116.4090727515963), 'Silver': np.float64(1150.0), 'Gold': np.float64(1200.5101767698577), 'Platinum': np.float64(1260.4531599594402), 'Emerald': np.float64(1329.917503268367), 'Diamond': np.float64(1422.6188247059667), 'Master': np.float64(1517.1410517542738), 'Grandmaster': np.float64(1587.1285945815287), 'Challenger': np.float64(1614.2704340628113)}\n"
     ]
    }
   ],
   "source": [
    "# Converting to League ranks\n",
    "    # Calcuate the current rank cutoff given the league distribution. E.g. if top x% of players are Challenger in league, set top x% of fighters to that rank\n",
    "# League Season 14 rank % of player base and percentiles:\n",
    "    # Challenger = 0.021%, 0.021%\n",
    "    # Grandmaster = 0.051%, 0.072%\n",
    "    # Master = 0.34%, 0.41%\n",
    "    # Diamond = 2.3%, 2.7%\n",
    "    # Emerald = 8.1%, 10.8%\n",
    "    # Platinum = 12%, 23%\n",
    "    # Gold = 18%, 41%\n",
    "    # Silver = 22%, 63%\n",
    "    # Bronze = 21%, 84%\n",
    "    # Iron = 14%, 100%\n",
    "import numpy as np\n",
    "challenger = df_elo_cur['Elo'].quantile(1 - 0.00021)\n",
    "grandmaster = df_elo_cur['Elo'].quantile(1- 0.00072)\n",
    "master = df_elo_cur['Elo'].quantile(1 - 0.0041)\n",
    "diamond = df_elo_cur['Elo'].quantile(1 - 0.027)\n",
    "emerald = df_elo_cur['Elo'].quantile(1 - 0.108)\n",
    "platinum = df_elo_cur['Elo'].quantile(1 - 0.23)\n",
    "gold = df_elo_cur['Elo'].quantile(1 - 0.41)\n",
    "silver = df_elo_cur['Elo'].quantile(1 - 0.63)\n",
    "bronze = df_elo_cur['Elo'].quantile(1 - 0.84)\n",
    "iron = df_elo_cur['Elo'].quantile(1 - 1)\n",
    "\n",
    "cutoffs = {\n",
    "    'Iron': iron,\n",
    "    'Bronze': bronze,\n",
    "    'Silver': silver,\n",
    "    'Gold': gold,\n",
    "    'Platinum': platinum,\n",
    "    'Emerald': emerald,\n",
    "    'Diamond': diamond,\n",
    "    'Master': master,\n",
    "    'Grandmaster': grandmaster,\n",
    "    'Challenger': challenger\n",
    "}\n",
    "print(cutoffs)\n"
   ]
  },
  {
   "cell_type": "code",
   "execution_count": 26,
   "metadata": {},
   "outputs": [],
   "source": [
    "def AssignRank(elo):\n",
    "    largest_value = float('-inf')\n",
    "    rank = None\n",
    "    for key, value in cutoffs.items():\n",
    "        if value <= elo and value > largest_value:\n",
    "            largest_value = value\n",
    "            rank = key\n",
    "    return rank\n",
    "\n",
    "\n",
    "# Calculate ranks for current elos\n",
    "df_elo_cur['Rank'] = df_elo_cur.apply(lambda row: AssignRank(row['Elo']), axis=1)\n",
    "\n",
    "# Calculate ranks for peak elos\n",
    "df_elo_peak['Rank'] = df_elo_peak.apply(lambda row: AssignRank(row['Elo']), axis=1)\n",
    "\n",
    "\n",
    "# Calculate ranks for historical elos\n",
    "for fighter, value in elo_history.items():\n",
    "    for event in value:\n",
    "        event['Rank'] = AssignRank(event['Elo'])"
   ]
  },
  {
   "cell_type": "code",
   "execution_count": 27,
   "metadata": {},
   "outputs": [],
   "source": [
    "# Export tables\n",
    "df_elo_cur.to_csv('Current_Elos.csv', index=True)\n",
    "df_elo_peak.to_csv('Peak_Elos.csv', index=True)\n",
    "# elo_history is exported manually using VS Code\n"
   ]
  }
 ],
 "metadata": {
  "kernelspec": {
   "display_name": ".conda",
   "language": "python",
   "name": "python3"
  },
  "language_info": {
   "codemirror_mode": {
    "name": "ipython",
    "version": 3
   },
   "file_extension": ".py",
   "mimetype": "text/x-python",
   "name": "python",
   "nbconvert_exporter": "python",
   "pygments_lexer": "ipython3",
   "version": "3.11.10"
  }
 },
 "nbformat": 4,
 "nbformat_minor": 2
}

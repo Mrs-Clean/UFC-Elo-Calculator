{
 "cells": [
  {
   "cell_type": "code",
   "execution_count": 34,
   "metadata": {},
   "outputs": [],
   "source": [
    "import pandas as pd\n"
   ]
  },
  {
   "cell_type": "code",
   "execution_count": 35,
   "metadata": {},
   "outputs": [
    {
     "name": "stdout",
     "output_type": "stream",
     "text": [
      "       Weight class          Fighter 1 Result          Fighter 2  \\\n",
      "0         Flyweight  Alexandre Pantoja    def        Kai Asakura   \n",
      "1      Welterweight  Shavkat Rakhmonov    def  Ian Machado Garry   \n",
      "2       Heavyweight         Ciryl Gane    def   Alexander Volkov   \n",
      "3     Featherweight     Bryce Mitchell    def        Kron Gracie   \n",
      "4     Featherweight        Choi Doo-ho    def      Nate Landwehr   \n",
      "...             ...                ...    ...                ...   \n",
      "7960            NaN     Gerard Gordeau    def       Kevin Rosier   \n",
      "7961            NaN       Ken Shamrock    def      Patrick Smith   \n",
      "7962            NaN       Royce Gracie    def      Art Jimmerson   \n",
      "7963            NaN       Kevin Rosier    def       Zane Frazier   \n",
      "7964            NaN     Gerard Gordeau    def         Teila Tuli   \n",
      "\n",
      "                                          Method  Round  Time    #  \n",
      "0        Technical Submission (rear-naked choke)    2.0  2:05  715  \n",
      "1     Decision (unanimous) (48–47, 48–47, 48–47)    5.0  5:00  715  \n",
      "2         Decision (split) (29–28, 28–29, 29–28)    3.0  5:00  715  \n",
      "3                           KO (slam and elbows)    3.0  0:39  715  \n",
      "4                                   TKO (elbows)    3.0  3:21  715  \n",
      "...                                          ...    ...   ...  ...  \n",
      "7960                       TKO (corner stoppage)    NaN  0:59    1  \n",
      "7961                      Submission (heel hook)    NaN  1:49    1  \n",
      "7962                  Submission (smother choke)    NaN  2:18    1  \n",
      "7963                               TKO (punches)    NaN  4:20    1  \n",
      "7964                             TKO (head kick)    NaN  0:26    1  \n",
      "\n",
      "[7965 rows x 8 columns]\n"
     ]
    }
   ],
   "source": [
    "data = pd.read_csv('all_fight_results.csv')\n",
    "# Reverse dataframe\n",
    "print(data)"
   ]
  },
  {
   "cell_type": "code",
   "execution_count": 36,
   "metadata": {},
   "outputs": [
    {
     "name": "stdout",
     "output_type": "stream",
     "text": [
      "       Weight class          Fighter 1 Result          Fighter 2  \\\n",
      "0               NaN     Gerard Gordeau    def         Teila Tuli   \n",
      "1               NaN       Kevin Rosier    def       Zane Frazier   \n",
      "2               NaN       Royce Gracie    def      Art Jimmerson   \n",
      "3               NaN       Ken Shamrock    def      Patrick Smith   \n",
      "4               NaN     Gerard Gordeau    def       Kevin Rosier   \n",
      "...             ...                ...    ...                ...   \n",
      "7960  Featherweight        Choi Doo-ho    def      Nate Landwehr   \n",
      "7961  Featherweight     Bryce Mitchell    def        Kron Gracie   \n",
      "7962    Heavyweight         Ciryl Gane    def   Alexander Volkov   \n",
      "7963   Welterweight  Shavkat Rakhmonov    def  Ian Machado Garry   \n",
      "7964      Flyweight  Alexandre Pantoja    def        Kai Asakura   \n",
      "\n",
      "                                          Method  Round  Time    #  \n",
      "0                                TKO (head kick)    NaN  0:26    1  \n",
      "1                                  TKO (punches)    NaN  4:20    1  \n",
      "2                     Submission (smother choke)    NaN  2:18    1  \n",
      "3                         Submission (heel hook)    NaN  1:49    1  \n",
      "4                          TKO (corner stoppage)    NaN  0:59    1  \n",
      "...                                          ...    ...   ...  ...  \n",
      "7960                                TKO (elbows)    3.0  3:21  715  \n",
      "7961                        KO (slam and elbows)    3.0  0:39  715  \n",
      "7962      Decision (split) (29–28, 28–29, 29–28)    3.0  5:00  715  \n",
      "7963  Decision (unanimous) (48–47, 48–47, 48–47)    5.0  5:00  715  \n",
      "7964     Technical Submission (rear-naked choke)    2.0  2:05  715  \n",
      "\n",
      "[7965 rows x 8 columns]\n"
     ]
    }
   ],
   "source": [
    "df = data.iloc[::-1].reset_index(drop=True)\n",
    "print(df)"
   ]
  },
  {
   "cell_type": "code",
   "execution_count": 37,
   "metadata": {},
   "outputs": [
    {
     "name": "stdout",
     "output_type": "stream",
     "text": [
      "['def' 'vs']\n"
     ]
    }
   ],
   "source": [
    "print(pd.unique(df['Result']))"
   ]
  },
  {
   "cell_type": "code",
   "execution_count": 38,
   "metadata": {},
   "outputs": [],
   "source": [
    "import importlib\n",
    "import elo_calculator"
   ]
  },
  {
   "cell_type": "code",
   "execution_count": 42,
   "metadata": {},
   "outputs": [],
   "source": [
    "\n",
    "importlib.reload(elo_calculator)\n",
    "from elo_calculator import EloCalculator, ExpDecayK\n",
    "\n",
    "peak = {}\n",
    "elo_cur = {}\n",
    "elo_history = {}\n",
    "record = {}\n",
    "for index, row in df.iterrows():\n",
    "    num = row['#']\n",
    "    A = row['Fighter 1']\n",
    "    B = row['Fighter 2']\n",
    "    if(A not in elo_cur):\n",
    "        elo_cur[A] = 1200 # League of Legends starts everyone at 1200 elo\n",
    "        elo_history[A] = []\n",
    "        record[A] = {\"wins\": 0, \"losses\": 0, \"draws\": 0}\n",
    "    if(B not in elo_cur):\n",
    "        elo_cur[B] = 1200\n",
    "        elo_history[B] = []\n",
    "        record[B] = {\"wins\": 0, \"losses\": 0, \"draws\": 0}\n",
    "    A_old_elo = elo_cur[A]\n",
    "    B_old_elo = elo_cur[B]\n",
    "    A_fights = record[A][\"wins\"] + record[A][\"losses\"] + record[A][\"draws\"]\n",
    "    B_fights = record[B][\"wins\"] + record[B][\"losses\"] + record[B][\"draws\"]\n",
    "    # Update record\n",
    "    if(row['Result'] == 'def'):\n",
    "        winner = 1\n",
    "        record[A][\"wins\"] += 1\n",
    "        record[B][\"losses\"] += 1\n",
    "    else:\n",
    "        winner = 0.5\n",
    "        record[A][\"draws\"] += 1\n",
    "        record[B][\"draws\"] += 1\n",
    "    A_record = f\"{record[A]['wins']}-{record[A]['losses']}-{record[A]['draws']}\"\n",
    "    B_record = f\"{record[B]['wins']}-{record[B]['losses']}-{record[B]['draws']}\"\n",
    "    Ka, Kb = ExpDecayK(A_fights, B_fights)\n",
    "    A_new_elo, B_new_elo = EloCalculator(A_old_elo, B_old_elo, winner, Ka, Kb)\n",
    "    # Update elo\n",
    "    elo_cur[A] = A_new_elo\n",
    "    elo_cur[B] = B_new_elo\n",
    "    # Add to elo history\n",
    "    elo_history[A].append({\"Event #\": num, \"Elo Rating\": A_new_elo, \"Record\": A_record})\n",
    "    elo_history[B].append({\"Event #\": num, \"Elo Rating\": B_new_elo, \"Record\": B_record})\n",
    "    # Update peak elo\n",
    "    if(A not in peak or peak[A]['Elo'] <= A_new_elo):\n",
    "        peak[A] = {\"Event #\": num, \"Elo\": A_new_elo}\n",
    "    if(B not in peak or peak[B]['Elo'] <= B_new_elo):\n",
    "        peak[B] = {\"Event #\": num, \"Elo\": B_new_elo}"
   ]
  }
 ],
 "metadata": {
  "kernelspec": {
   "display_name": ".conda",
   "language": "python",
   "name": "python3"
  },
  "language_info": {
   "codemirror_mode": {
    "name": "ipython",
    "version": 3
   },
   "file_extension": ".py",
   "mimetype": "text/x-python",
   "name": "python",
   "nbconvert_exporter": "python",
   "pygments_lexer": "ipython3",
   "version": "3.11.10"
  }
 },
 "nbformat": 4,
 "nbformat_minor": 2
}
